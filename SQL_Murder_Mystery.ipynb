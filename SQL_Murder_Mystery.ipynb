{
 "cells": [
  {
   "cell_type": "markdown",
   "id": "393730ac-97ab-4183-a3cd-a02c6116f9a7",
   "metadata": {},
   "source": [
    "# 1.SQL Murder Mystery database"
   ]
  },
  {
   "cell_type": "markdown",
   "id": "6a2e1054-0611-4544-8e30-decd19b8e464",
   "metadata": {
    "tags": []
   },
   "source": [
    "### A crime has taken place and the detective needs your help. The detective gave you the crime scene report, but you somehow lost it. \n",
    "### You vaguely remember that the crime was a murder that occurred sometime on 'Jan.15, 2018'and that it took place in 'SQL City'. \n",
    "### The question we need to solve is 'whodunnit?'\n"
   ]
  },
  {
   "cell_type": "markdown",
   "id": "bc80e37e-98bf-4ee8-87d8-b55ba4f2826d",
   "metadata": {},
   "source": [
    "##### The first cell of code connects us to the \"sql-murder-mystery\" database.\n",
    "##### The second cell of code extracts info out of what you remember above from the table \"crime_scene_report\"."
   ]
  },
  {
   "cell_type": "code",
   "execution_count": null,
   "id": "f252e603-1d99-4f09-a118-1cc229f6b130",
   "metadata": {
    "tags": []
   },
   "outputs": [],
   "source": [
    "import pandas as pd\n",
    "import sqlite3\n",
    "\n",
    "conn=sqlite3.connect('sql-murder-mystery.db')\n",
    "c=conn.cursor()"
   ]
  },
  {
   "cell_type": "code",
   "execution_count": null,
   "id": "61972238-b6dd-4451-a92e-4c4e1c8136d3",
   "metadata": {
    "tags": []
   },
   "outputs": [],
   "source": [
    "pd.read_sql(\"select * from crime_scene_report where date='20180115' and type='murder' and city='SQL City'\",conn).iloc[0]['description']"
   ]
  },
  {
   "cell_type": "markdown",
   "id": "77d8c699-8198-4eaa-b29d-24702d859500",
   "metadata": {
    "tags": []
   },
   "source": [
    "# 2. Finding out who those 2 witnesses are from the table \"person\"."
   ]
  },
  {
   "cell_type": "code",
   "execution_count": null,
   "id": "cdda7c9f-c149-4556-8efa-4b696be1beee",
   "metadata": {
    "tags": []
   },
   "outputs": [],
   "source": [
    "pd.read_sql(\"SELECT * FROM person where address_street_name='Northwestern Dr' order by address_number desc limit 1\",conn)"
   ]
  },
  {
   "cell_type": "code",
   "execution_count": null,
   "id": "45501014-85d8-4409-91c8-f4dea28fa5ce",
   "metadata": {
    "tags": []
   },
   "outputs": [],
   "source": [
    "pd.read_sql(\"SELECT * FROM person where name like '%Annabel%' and address_street_name='Franklin Ave'\",conn)"
   ]
  },
  {
   "cell_type": "markdown",
   "id": "78785660-ce81-4c7d-a819-7955859db721",
   "metadata": {},
   "source": [
    "# 3. Finding out what those 2 witnesses said from the table \"interview\"."
   ]
  },
  {
   "cell_type": "code",
   "execution_count": null,
   "id": "051bf155-7d5d-4834-85fc-e83514bb816e",
   "metadata": {
    "tags": []
   },
   "outputs": [],
   "source": [
    "witness_1=pd.read_sql(\"SELECT * FROM interview where person_id=14887\",conn).iloc[0]['transcript']\n",
    "witness_1"
   ]
  },
  {
   "cell_type": "code",
   "execution_count": null,
   "id": "fd53e2bb-a159-4695-99f3-868db3d5ccb9",
   "metadata": {
    "tags": []
   },
   "outputs": [],
   "source": [
    "witness_2=pd.read_sql(\"SELECT * FROM interview where person_id=16371\",conn).iloc[0]['transcript']\n",
    "witness_2"
   ]
  },
  {
   "cell_type": "markdown",
   "id": "0de219b0-2f38-4ad0-967e-7ab0c736bcd1",
   "metadata": {
    "tags": []
   },
   "source": [
    "# 4. Finding out the possible suspects out of witness_1's report from the table \"drivers\" and \"person\"."
   ]
  },
  {
   "cell_type": "code",
   "execution_count": null,
   "id": "6263b7ef-edab-4321-92f0-0d7d54cdc374",
   "metadata": {
    "tags": []
   },
   "outputs": [],
   "source": [
    "pd.read_sql(\"select * from drivers_license where plate_number like '%H42W%'\",conn)"
   ]
  },
  {
   "cell_type": "markdown",
   "id": "7c37dd08-07d1-4e8c-b729-04fc4626f173",
   "metadata": {
    "tags": []
   },
   "source": [
    "##### With witness_1's report, \"a man\", so the possible susptects are the last 2 above."
   ]
  },
  {
   "cell_type": "code",
   "execution_count": null,
   "id": "68a5deb6-426d-4528-8bfc-510d474f240e",
   "metadata": {
    "tags": []
   },
   "outputs": [],
   "source": [
    "suspects_1=pd.read_sql(\"select * from person where license_id=423327 or license_id=664760\",conn)\n",
    "suspects_1"
   ]
  },
  {
   "cell_type": "markdown",
   "id": "00de1f51-2062-4cc7-aa99-f2d790a60f20",
   "metadata": {},
   "source": [
    "# 5. Finding out the possible suspects out of witness_2's report from the table \"get_fit_now_member\", \"get_fit_now_check_in\" and \"person\"."
   ]
  },
  {
   "cell_type": "code",
   "execution_count": null,
   "id": "6502fdcb-354e-4760-bcd4-f96b91606c6c",
   "metadata": {
    "tags": []
   },
   "outputs": [],
   "source": [
    "pd.read_sql(\"select * from get_fit_now_member where person_id=16371\",conn)"
   ]
  },
  {
   "cell_type": "code",
   "execution_count": null,
   "id": "6eed9102-391c-46e0-b688-4e0f2e294bcc",
   "metadata": {
    "tags": []
   },
   "outputs": [],
   "source": [
    "pd.read_sql(\"select * from get_fit_now_check_in where membership_id= 90081\",conn)"
   ]
  },
  {
   "cell_type": "code",
   "execution_count": null,
   "id": "4f243ff3-8c86-4d68-bce4-f3afca094d00",
   "metadata": {
    "tags": []
   },
   "outputs": [],
   "source": [
    "pd.read_sql(\"select * from get_fit_now_check_in where check_in_time<=1700 and check_out_time>=1600\",conn)"
   ]
  },
  {
   "cell_type": "markdown",
   "id": "65adc94c-484e-4c19-b1e7-ae3df15f7dc3",
   "metadata": {},
   "source": [
    "##### With witness_1's report, number on the bag started with \"48Z\", so the possible susptects are the first 2 above."
   ]
  },
  {
   "cell_type": "code",
   "execution_count": null,
   "id": "27b8283b-3709-4fb2-8a6c-f179b3441d2b",
   "metadata": {
    "tags": []
   },
   "outputs": [],
   "source": [
    "pd.read_sql(\"select * from get_fit_now_member where id='48Z7A'  or id='48Z55'\",conn)"
   ]
  },
  {
   "cell_type": "code",
   "execution_count": null,
   "id": "cf22845b-9947-41fe-968b-ae1fcc8440ce",
   "metadata": {
    "tags": []
   },
   "outputs": [],
   "source": [
    "suspect_2=pd.read_sql(\"select * from person where id=67318 or id=28819\",conn)\n",
    "suspect_2"
   ]
  },
  {
   "cell_type": "markdown",
   "id": "73df76d8-e596-491c-ab05-8857cc8c58ee",
   "metadata": {},
   "source": [
    "# 6. Find out the possible suspect from both suspect_1 and suspect_2."
   ]
  },
  {
   "cell_type": "code",
   "execution_count": null,
   "id": "bb29da9a-df29-4374-82f6-9786251a57c4",
   "metadata": {
    "tags": []
   },
   "outputs": [],
   "source": [
    "pd.read_sql(\"select * from\\\n",
    "(select * from person where license_id=423327 or license_id= 664760) as suspect_1,\\\n",
    "(select * from person where id=67318 or id=28819) as suspect_2 \\\n",
    "where suspect_1.name = suspect_2.name\",conn)"
   ]
  },
  {
   "cell_type": "markdown",
   "id": "cefe0464-bd9b-4e70-8afc-40cfe3de4da2",
   "metadata": {},
   "source": [
    "# Finally, we find out \"whodunnit?\", it is the person above. Let's go get him."
   ]
  },
  {
   "cell_type": "code",
   "execution_count": null,
   "id": "766d80c5-5ab0-4092-b9f4-9575ba097677",
   "metadata": {
    "tags": []
   },
   "outputs": [],
   "source": [
    "c.close()\n",
    "conn.close()"
   ]
  },
  {
   "cell_type": "code",
   "execution_count": null,
   "id": "841c0eec-b791-42e1-bd79-fbff7849915b",
   "metadata": {},
   "outputs": [],
   "source": []
  }
 ],
 "metadata": {
  "kernelspec": {
   "display_name": "Python 3 (ipykernel)",
   "language": "python",
   "name": "python3"
  },
  "language_info": {
   "codemirror_mode": {
    "name": "ipython",
    "version": 3
   },
   "file_extension": ".py",
   "mimetype": "text/x-python",
   "name": "python",
   "nbconvert_exporter": "python",
   "pygments_lexer": "ipython3",
   "version": "3.10.9"
  }
 },
 "nbformat": 4,
 "nbformat_minor": 5
}
